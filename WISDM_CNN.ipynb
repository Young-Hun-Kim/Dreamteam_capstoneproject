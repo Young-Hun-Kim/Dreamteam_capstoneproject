{
 "cells": [
  {
   "cell_type": "code",
   "execution_count": 1,
   "id": "de8d47ea",
   "metadata": {},
   "outputs": [],
   "source": [
    "import pandas as pd\n",
    "import numpy as np\n",
    "import matplotlib.pyplot as plt\n",
    "import seaborn as sns\n",
    "from scipy import stats\n",
    "from sklearn import metrics\n",
    "from sklearn.model_selection import train_test_split\n",
    "from keras.models import Sequential, Model\n",
    "from keras.layers import Dense\n",
    "from keras.layers import Flatten\n",
    "from keras.layers import Dropout\n",
    "from keras.callbacks import ModelCheckpoint\n",
    "from keras.layers.convolutional import Conv1D\n",
    "from keras.layers.convolutional import MaxPooling1D\n",
    "RANDOM_SEED = 42"
   ]
  },
  {
   "cell_type": "markdown",
   "id": "683535b7",
   "metadata": {},
   "source": [
    "Load Dataset"
   ]
  },
  {
   "cell_type": "code",
   "execution_count": 2,
   "id": "34ce5269",
   "metadata": {},
   "outputs": [],
   "source": [
    "columns = ['user','activity','timestamp', 'xaxis', 'yaxis', 'zaxis']\n",
    "df = pd.read_csv('/Users/jaenagaray/Documents/1 ITS Capstone Project Unit 1152/ITS Capstone Project Unit 1152/WISDM_ar_v1.1_raw.txt', \n",
    "                 header = None, names = columns, on_bad_lines='skip')\n",
    "df = df.dropna()"
   ]
  },
  {
   "cell_type": "code",
   "execution_count": 3,
   "id": "da258645",
   "metadata": {},
   "outputs": [],
   "source": [
    "df['zaxis'] = df['zaxis'].str.replace(';', '')"
   ]
  },
  {
   "cell_type": "code",
   "execution_count": 4,
   "id": "a46ac6dd",
   "metadata": {},
   "outputs": [
    {
     "name": "stdout",
     "output_type": "stream",
     "text": [
      "Total rows :  1086467\n"
     ]
    },
    {
     "data": {
      "text/html": [
       "<div>\n",
       "<style scoped>\n",
       "    .dataframe tbody tr th:only-of-type {\n",
       "        vertical-align: middle;\n",
       "    }\n",
       "\n",
       "    .dataframe tbody tr th {\n",
       "        vertical-align: top;\n",
       "    }\n",
       "\n",
       "    .dataframe thead th {\n",
       "        text-align: right;\n",
       "    }\n",
       "</style>\n",
       "<table border=\"1\" class=\"dataframe\">\n",
       "  <thead>\n",
       "    <tr style=\"text-align: right;\">\n",
       "      <th></th>\n",
       "      <th>user</th>\n",
       "      <th>activity</th>\n",
       "      <th>timestamp</th>\n",
       "      <th>xaxis</th>\n",
       "      <th>yaxis</th>\n",
       "      <th>zaxis</th>\n",
       "    </tr>\n",
       "  </thead>\n",
       "  <tbody>\n",
       "    <tr>\n",
       "      <th>0</th>\n",
       "      <td>33</td>\n",
       "      <td>Jogging</td>\n",
       "      <td>49105962326000</td>\n",
       "      <td>-0.694638</td>\n",
       "      <td>12.680544</td>\n",
       "      <td>0.50395286</td>\n",
       "    </tr>\n",
       "    <tr>\n",
       "      <th>1</th>\n",
       "      <td>33</td>\n",
       "      <td>Jogging</td>\n",
       "      <td>49106062271000</td>\n",
       "      <td>5.012288</td>\n",
       "      <td>11.264028</td>\n",
       "      <td>0.95342433</td>\n",
       "    </tr>\n",
       "    <tr>\n",
       "      <th>2</th>\n",
       "      <td>33</td>\n",
       "      <td>Jogging</td>\n",
       "      <td>49106112167000</td>\n",
       "      <td>4.903325</td>\n",
       "      <td>10.882658</td>\n",
       "      <td>-0.08172209</td>\n",
       "    </tr>\n",
       "    <tr>\n",
       "      <th>3</th>\n",
       "      <td>33</td>\n",
       "      <td>Jogging</td>\n",
       "      <td>49106222305000</td>\n",
       "      <td>-0.612916</td>\n",
       "      <td>18.496431</td>\n",
       "      <td>3.0237172</td>\n",
       "    </tr>\n",
       "    <tr>\n",
       "      <th>4</th>\n",
       "      <td>33</td>\n",
       "      <td>Jogging</td>\n",
       "      <td>49106332290000</td>\n",
       "      <td>-1.184970</td>\n",
       "      <td>12.108489</td>\n",
       "      <td>7.205164</td>\n",
       "    </tr>\n",
       "  </tbody>\n",
       "</table>\n",
       "</div>"
      ],
      "text/plain": [
       "   user activity       timestamp     xaxis      yaxis        zaxis\n",
       "0    33  Jogging  49105962326000 -0.694638  12.680544   0.50395286\n",
       "1    33  Jogging  49106062271000  5.012288  11.264028   0.95342433\n",
       "2    33  Jogging  49106112167000  4.903325  10.882658  -0.08172209\n",
       "3    33  Jogging  49106222305000 -0.612916  18.496431    3.0237172\n",
       "4    33  Jogging  49106332290000 -1.184970  12.108489     7.205164"
      ]
     },
     "execution_count": 4,
     "metadata": {},
     "output_type": "execute_result"
    }
   ],
   "source": [
    "print('Total rows : ', len(df))\n",
    "df.head()"
   ]
  },
  {
   "cell_type": "markdown",
   "id": "1f3a3cf9",
   "metadata": {},
   "source": [
    "Plot Activity Types"
   ]
  },
  {
   "cell_type": "code",
   "execution_count": 5,
   "id": "3b67f7d5",
   "metadata": {},
   "outputs": [
    {
     "data": {
      "image/png": "[encoded data removed]",
      "text/plain": [
       "<Figure size 432x288 with 1 Axes>"
      ]
     },
     "metadata": {
      "needs_background": "light"
     },
     "output_type": "display_data"
    }
   ],
   "source": [
    "df['activity'].value_counts().plot(kind='bar', color = 'green', title='Count per Activity Type', );"
   ]
  },
  {
   "cell_type": "code",
   "execution_count": 6,
   "id": "f30f6bd6",
   "metadata": {},
   "outputs": [
    {
     "data": {
      "text/html": [
       "<div>\n",
       "<style scoped>\n",
       "    .dataframe tbody tr th:only-of-type {\n",
       "        vertical-align: middle;\n",
       "    }\n",
       "\n",
       "    .dataframe tbody tr th {\n",
       "        vertical-align: top;\n",
       "    }\n",
       "\n",
       "    .dataframe thead th {\n",
       "        text-align: right;\n",
       "    }\n",
       "</style>\n",
       "<table border=\"1\" class=\"dataframe\">\n",
       "  <thead>\n",
       "    <tr style=\"text-align: right;\">\n",
       "      <th></th>\n",
       "      <th>user</th>\n",
       "      <th>activity</th>\n",
       "      <th>timestamp</th>\n",
       "      <th>xaxis</th>\n",
       "      <th>yaxis</th>\n",
       "      <th>zaxis</th>\n",
       "    </tr>\n",
       "  </thead>\n",
       "  <tbody>\n",
       "    <tr>\n",
       "      <th>0</th>\n",
       "      <td>33</td>\n",
       "      <td>Jogging</td>\n",
       "      <td>49105962326000</td>\n",
       "      <td>-0.694638</td>\n",
       "      <td>12.680544</td>\n",
       "      <td>0.50395286</td>\n",
       "    </tr>\n",
       "    <tr>\n",
       "      <th>1</th>\n",
       "      <td>33</td>\n",
       "      <td>Jogging</td>\n",
       "      <td>49106062271000</td>\n",
       "      <td>5.012288</td>\n",
       "      <td>11.264028</td>\n",
       "      <td>0.95342433</td>\n",
       "    </tr>\n",
       "    <tr>\n",
       "      <th>2</th>\n",
       "      <td>33</td>\n",
       "      <td>Jogging</td>\n",
       "      <td>49106112167000</td>\n",
       "      <td>4.903325</td>\n",
       "      <td>10.882658</td>\n",
       "      <td>-0.08172209</td>\n",
       "    </tr>\n",
       "    <tr>\n",
       "      <th>3</th>\n",
       "      <td>33</td>\n",
       "      <td>Jogging</td>\n",
       "      <td>49106222305000</td>\n",
       "      <td>-0.612916</td>\n",
       "      <td>18.496431</td>\n",
       "      <td>3.0237172</td>\n",
       "    </tr>\n",
       "    <tr>\n",
       "      <th>4</th>\n",
       "      <td>33</td>\n",
       "      <td>Jogging</td>\n",
       "      <td>49106332290000</td>\n",
       "      <td>-1.184970</td>\n",
       "      <td>12.108489</td>\n",
       "      <td>7.205164</td>\n",
       "    </tr>\n",
       "    <tr>\n",
       "      <th>...</th>\n",
       "      <td>...</td>\n",
       "      <td>...</td>\n",
       "      <td>...</td>\n",
       "      <td>...</td>\n",
       "      <td>...</td>\n",
       "      <td>...</td>\n",
       "    </tr>\n",
       "    <tr>\n",
       "      <th>1086463</th>\n",
       "      <td>19</td>\n",
       "      <td>Sitting</td>\n",
       "      <td>131623331483000</td>\n",
       "      <td>9.000000</td>\n",
       "      <td>-1.570000</td>\n",
       "      <td>1.69</td>\n",
       "    </tr>\n",
       "    <tr>\n",
       "      <th>1086464</th>\n",
       "      <td>19</td>\n",
       "      <td>Sitting</td>\n",
       "      <td>131623371431000</td>\n",
       "      <td>9.040000</td>\n",
       "      <td>-1.460000</td>\n",
       "      <td>1.73</td>\n",
       "    </tr>\n",
       "    <tr>\n",
       "      <th>1086465</th>\n",
       "      <td>19</td>\n",
       "      <td>Sitting</td>\n",
       "      <td>131623411592000</td>\n",
       "      <td>9.080000</td>\n",
       "      <td>-1.380000</td>\n",
       "      <td>1.69</td>\n",
       "    </tr>\n",
       "    <tr>\n",
       "      <th>1086466</th>\n",
       "      <td>19</td>\n",
       "      <td>Sitting</td>\n",
       "      <td>131623491487000</td>\n",
       "      <td>9.000000</td>\n",
       "      <td>-1.460000</td>\n",
       "      <td>1.73</td>\n",
       "    </tr>\n",
       "    <tr>\n",
       "      <th>1086467</th>\n",
       "      <td>19</td>\n",
       "      <td>Sitting</td>\n",
       "      <td>131623531465000</td>\n",
       "      <td>8.880000</td>\n",
       "      <td>-1.330000</td>\n",
       "      <td>1.61</td>\n",
       "    </tr>\n",
       "  </tbody>\n",
       "</table>\n",
       "<p>1086467 rows × 6 columns</p>\n",
       "</div>"
      ],
      "text/plain": [
       "         user activity        timestamp     xaxis      yaxis        zaxis\n",
       "0          33  Jogging   49105962326000 -0.694638  12.680544   0.50395286\n",
       "1          33  Jogging   49106062271000  5.012288  11.264028   0.95342433\n",
       "2          33  Jogging   49106112167000  4.903325  10.882658  -0.08172209\n",
       "3          33  Jogging   49106222305000 -0.612916  18.496431    3.0237172\n",
       "4          33  Jogging   49106332290000 -1.184970  12.108489     7.205164\n",
       "...       ...      ...              ...       ...        ...          ...\n",
       "1086463    19  Sitting  131623331483000  9.000000  -1.570000         1.69\n",
       "1086464    19  Sitting  131623371431000  9.040000  -1.460000         1.73\n",
       "1086465    19  Sitting  131623411592000  9.080000  -1.380000         1.69\n",
       "1086466    19  Sitting  131623491487000  9.000000  -1.460000         1.73\n",
       "1086467    19  Sitting  131623531465000  8.880000  -1.330000         1.61\n",
       "\n",
       "[1086467 rows x 6 columns]"
      ]
     },
     "metadata": {},
     "output_type": "display_data"
    }
   ],
   "source": [
    "display(df)"
   ]
  },
  {
   "cell_type": "code",
   "execution_count": 7,
   "id": "2725bec0",
   "metadata": {},
   "outputs": [
    {
     "data": {
      "text/plain": [
       "<bound method DataFrame.info of          user activity        timestamp     xaxis      yaxis        zaxis\n",
       "0          33  Jogging   49105962326000 -0.694638  12.680544   0.50395286\n",
       "1          33  Jogging   49106062271000  5.012288  11.264028   0.95342433\n",
       "2          33  Jogging   49106112167000  4.903325  10.882658  -0.08172209\n",
       "3          33  Jogging   49106222305000 -0.612916  18.496431    3.0237172\n",
       "4          33  Jogging   49106332290000 -1.184970  12.108489     7.205164\n",
       "...       ...      ...              ...       ...        ...          ...\n",
       "1086463    19  Sitting  131623331483000  9.000000  -1.570000         1.69\n",
       "1086464    19  Sitting  131623371431000  9.040000  -1.460000         1.73\n",
       "1086465    19  Sitting  131623411592000  9.080000  -1.380000         1.69\n",
       "1086466    19  Sitting  131623491487000  9.000000  -1.460000         1.73\n",
       "1086467    19  Sitting  131623531465000  8.880000  -1.330000         1.61\n",
       "\n",
       "[1086467 rows x 6 columns]>"
      ]
     },
     "execution_count": 7,
     "metadata": {},
     "output_type": "execute_result"
    }
   ],
   "source": [
    "df.info"
   ]
  },
  {
   "cell_type": "code",
   "execution_count": 8,
   "id": "118e78d0",
   "metadata": {},
   "outputs": [
    {
     "data": {
      "text/plain": [
       "1086467"
      ]
     },
     "execution_count": 8,
     "metadata": {},
     "output_type": "execute_result"
    }
   ],
   "source": [
    "len(df.index)"
   ]
  },
  {
   "cell_type": "code",
   "execution_count": 9,
   "id": "7cb88ec9",
   "metadata": {},
   "outputs": [
    {
     "data": {
      "text/plain": [
       "Walking       418393\n",
       "Jogging       336446\n",
       "Upstairs      122869\n",
       "Downstairs    100426\n",
       "Sitting        59939\n",
       "Standing       48394\n",
       "Name: activity, dtype: int64"
      ]
     },
     "execution_count": 9,
     "metadata": {},
     "output_type": "execute_result"
    }
   ],
   "source": [
    "df['activity'].value_counts()"
   ]
  },
  {
   "cell_type": "code",
   "execution_count": 10,
   "id": "1dde0fc4",
   "metadata": {},
   "outputs": [],
   "source": [
    "# Round numbers\n",
    "df = df.round({'xaxis': 4, 'yaxis': 4, 'zaxis': 4})"
   ]
  },
  {
   "cell_type": "code",
   "execution_count": 11,
   "id": "e2abd882",
   "metadata": {},
   "outputs": [
    {
     "data": {
      "text/html": [
       "<div>\n",
       "<style scoped>\n",
       "    .dataframe tbody tr th:only-of-type {\n",
       "        vertical-align: middle;\n",
       "    }\n",
       "\n",
       "    .dataframe tbody tr th {\n",
       "        vertical-align: top;\n",
       "    }\n",
       "\n",
       "    .dataframe thead th {\n",
       "        text-align: right;\n",
       "    }\n",
       "</style>\n",
       "<table border=\"1\" class=\"dataframe\">\n",
       "  <thead>\n",
       "    <tr style=\"text-align: right;\">\n",
       "      <th></th>\n",
       "      <th>user</th>\n",
       "      <th>activity</th>\n",
       "      <th>timestamp</th>\n",
       "      <th>xaxis</th>\n",
       "      <th>yaxis</th>\n",
       "      <th>zaxis</th>\n",
       "    </tr>\n",
       "  </thead>\n",
       "  <tbody>\n",
       "    <tr>\n",
       "      <th>0</th>\n",
       "      <td>33</td>\n",
       "      <td>Jogging</td>\n",
       "      <td>49105962326000</td>\n",
       "      <td>-0.6946</td>\n",
       "      <td>12.6805</td>\n",
       "      <td>0.50395286</td>\n",
       "    </tr>\n",
       "    <tr>\n",
       "      <th>1</th>\n",
       "      <td>33</td>\n",
       "      <td>Jogging</td>\n",
       "      <td>49106062271000</td>\n",
       "      <td>5.0123</td>\n",
       "      <td>11.2640</td>\n",
       "      <td>0.95342433</td>\n",
       "    </tr>\n",
       "    <tr>\n",
       "      <th>2</th>\n",
       "      <td>33</td>\n",
       "      <td>Jogging</td>\n",
       "      <td>49106112167000</td>\n",
       "      <td>4.9033</td>\n",
       "      <td>10.8827</td>\n",
       "      <td>-0.08172209</td>\n",
       "    </tr>\n",
       "    <tr>\n",
       "      <th>3</th>\n",
       "      <td>33</td>\n",
       "      <td>Jogging</td>\n",
       "      <td>49106222305000</td>\n",
       "      <td>-0.6129</td>\n",
       "      <td>18.4964</td>\n",
       "      <td>3.0237172</td>\n",
       "    </tr>\n",
       "    <tr>\n",
       "      <th>4</th>\n",
       "      <td>33</td>\n",
       "      <td>Jogging</td>\n",
       "      <td>49106332290000</td>\n",
       "      <td>-1.1850</td>\n",
       "      <td>12.1085</td>\n",
       "      <td>7.205164</td>\n",
       "    </tr>\n",
       "    <tr>\n",
       "      <th>...</th>\n",
       "      <td>...</td>\n",
       "      <td>...</td>\n",
       "      <td>...</td>\n",
       "      <td>...</td>\n",
       "      <td>...</td>\n",
       "      <td>...</td>\n",
       "    </tr>\n",
       "    <tr>\n",
       "      <th>1086463</th>\n",
       "      <td>19</td>\n",
       "      <td>Sitting</td>\n",
       "      <td>131623331483000</td>\n",
       "      <td>9.0000</td>\n",
       "      <td>-1.5700</td>\n",
       "      <td>1.69</td>\n",
       "    </tr>\n",
       "    <tr>\n",
       "      <th>1086464</th>\n",
       "      <td>19</td>\n",
       "      <td>Sitting</td>\n",
       "      <td>131623371431000</td>\n",
       "      <td>9.0400</td>\n",
       "      <td>-1.4600</td>\n",
       "      <td>1.73</td>\n",
       "    </tr>\n",
       "    <tr>\n",
       "      <th>1086465</th>\n",
       "      <td>19</td>\n",
       "      <td>Sitting</td>\n",
       "      <td>131623411592000</td>\n",
       "      <td>9.0800</td>\n",
       "      <td>-1.3800</td>\n",
       "      <td>1.69</td>\n",
       "    </tr>\n",
       "    <tr>\n",
       "      <th>1086466</th>\n",
       "      <td>19</td>\n",
       "      <td>Sitting</td>\n",
       "      <td>131623491487000</td>\n",
       "      <td>9.0000</td>\n",
       "      <td>-1.4600</td>\n",
       "      <td>1.73</td>\n",
       "    </tr>\n",
       "    <tr>\n",
       "      <th>1086467</th>\n",
       "      <td>19</td>\n",
       "      <td>Sitting</td>\n",
       "      <td>131623531465000</td>\n",
       "      <td>8.8800</td>\n",
       "      <td>-1.3300</td>\n",
       "      <td>1.61</td>\n",
       "    </tr>\n",
       "  </tbody>\n",
       "</table>\n",
       "<p>1086467 rows × 6 columns</p>\n",
       "</div>"
      ],
      "text/plain": [
       "         user activity        timestamp   xaxis    yaxis        zaxis\n",
       "0          33  Jogging   49105962326000 -0.6946  12.6805   0.50395286\n",
       "1          33  Jogging   49106062271000  5.0123  11.2640   0.95342433\n",
       "2          33  Jogging   49106112167000  4.9033  10.8827  -0.08172209\n",
       "3          33  Jogging   49106222305000 -0.6129  18.4964    3.0237172\n",
       "4          33  Jogging   49106332290000 -1.1850  12.1085     7.205164\n",
       "...       ...      ...              ...     ...      ...          ...\n",
       "1086463    19  Sitting  131623331483000  9.0000  -1.5700         1.69\n",
       "1086464    19  Sitting  131623371431000  9.0400  -1.4600         1.73\n",
       "1086465    19  Sitting  131623411592000  9.0800  -1.3800         1.69\n",
       "1086466    19  Sitting  131623491487000  9.0000  -1.4600         1.73\n",
       "1086467    19  Sitting  131623531465000  8.8800  -1.3300         1.61\n",
       "\n",
       "[1086467 rows x 6 columns]"
      ]
     },
     "metadata": {},
     "output_type": "display_data"
    }
   ],
   "source": [
    "display(df)"
   ]
  },
  {
   "cell_type": "markdown",
   "id": "c312a40a",
   "metadata": {},
   "source": [
    "Data Preprocessing"
   ]
  },
  {
   "cell_type": "code",
   "execution_count": 12,
   "id": "51b58f2d",
   "metadata": {},
   "outputs": [],
   "source": [
    "n_time_steps = 200\n",
    "n_features = 3\n",
    "steps = 20\n",
    "segments = []\n",
    "labels = []\n",
    "for i in range(0, len(df) - n_time_steps, steps):\n",
    "    xs = df['xaxis'].values[i: i + n_time_steps]\n",
    "    ys = df['yaxis'].values[i: i + n_time_steps]\n",
    "    zs = df['zaxis'].values[i: i + n_time_steps]\n",
    "    label = stats.mode(df['activity'][i: i + n_time_steps])[0][0]\n",
    "    segments.append([xs, ys, zs])\n",
    "    labels.append(label)"
   ]
  },
  {
   "cell_type": "code",
   "execution_count": 13,
   "id": "0d1ec6ae",
   "metadata": {},
   "outputs": [],
   "source": [
    "reshaped_segments = np.asarray(segments, dtype= np.float32).reshape(-1, n_time_steps, n_features)\n",
    "labels = np.asarray(pd.get_dummies(labels), dtype = np.float32)"
   ]
  },
  {
   "cell_type": "code",
   "execution_count": 14,
   "id": "07a6b86b",
   "metadata": {},
   "outputs": [
    {
     "name": "stdout",
     "output_type": "stream",
     "text": [
      "(54314, 200, 3)\n",
      "[0. 1. 0. 0. 0. 0.]\n"
     ]
    }
   ],
   "source": [
    "print(reshaped_segments.shape)\n",
    "print(labels[0])"
   ]
  },
  {
   "cell_type": "code",
   "execution_count": 15,
   "id": "6aad0ec5",
   "metadata": {},
   "outputs": [
    {
     "data": {
      "text/plain": [
       "array([[[ -0.6946    ,   5.0123    ,   4.9033    ],\n",
       "        [ -0.6129    ,  -1.185     ,   1.3757    ],\n",
       "        [ -0.6129    ,  -0.504     ,  -8.431     ],\n",
       "        ...,\n",
       "        [  7.6273947 ,  -8.349273  ,   9.575105  ],\n",
       "        [  2.2201166 ,   4.4810944 ,   0.08172209],\n",
       "        [ -5.8567495 ,   7.1234417 ,  -9.112013  ]],\n",
       "\n",
       "       [[  3.5685    ,  -0.504     ,  -2.3018    ],\n",
       "        [ -3.5685    ,  -0.8036    ,   0.504     ],\n",
       "        [  5.7069    ,  -8.6625    ,  -1.3348    ],\n",
       "        ...,\n",
       "        [  6.851035  ,  -8.19945   ,  -1.8387469 ],\n",
       "        [  2.982856  ,   3.1054392 ,   0.88532263],\n",
       "        [  8.349273  ,  -2.982856  ,  15.4046135 ]],\n",
       "\n",
       "       [[  5.6661    ,   0.2315    ,  -4.8216    ],\n",
       "        [  1.8387    ,  -3.2961    ,  11.6045    ],\n",
       "        [ -3.1735    ,   0.6129    ,  -7.8862    ],\n",
       "        ...,\n",
       "        [-11.536434  ,  -8.812365  ,   4.2904096 ],\n",
       "        [  2.2201166 ,   8.349273  ,   5.7886477 ],\n",
       "        [ -9.888372  ,   1.7978859 ,  -1.334794  ]],\n",
       "\n",
       "       ...,\n",
       "\n",
       "       [[  9.        ,   8.96      ,   9.        ],\n",
       "        [  9.04      ,   9.        ,   9.04      ],\n",
       "        [  9.04      ,   9.04      ,   9.        ],\n",
       "        ...,\n",
       "        [  2.26      ,   2.26      ,   2.22      ],\n",
       "        [  2.26      ,   2.26      ,   2.26      ],\n",
       "        [  2.3       ,   2.3       ,   2.26      ]],\n",
       "\n",
       "       [[  9.72      ,   9.        ,   8.39      ],\n",
       "        [  9.3       ,   8.27      ,   7.74      ],\n",
       "        [  8.81      ,   8.12      ,   8.85      ],\n",
       "        ...,\n",
       "        [  2.22      ,   2.3       ,   2.3       ],\n",
       "        [  2.26      ,   2.3       ,   2.34      ],\n",
       "        [  2.22      ,   2.26      ,   2.18      ]],\n",
       "\n",
       "       [[  9.34      ,   9.08      ,   8.88      ],\n",
       "        [  8.88      ,   9.19      ,   9.49      ],\n",
       "        [  9.34      ,   8.96      ,   9.08      ],\n",
       "        ...,\n",
       "        [  2.6       ,   2.56      ,   2.11      ],\n",
       "        [  2.3       ,   2.26      ,   2.26      ],\n",
       "        [  2.49      ,   2.37      ,   2.18      ]]], dtype=float32)"
      ]
     },
     "metadata": {},
     "output_type": "display_data"
    }
   ],
   "source": [
    "display(reshaped_segments)"
   ]
  },
  {
   "cell_type": "code",
   "execution_count": 16,
   "id": "ab6db3c3",
   "metadata": {},
   "outputs": [],
   "source": [
    "X_train, X_test, y_train, y_test = train_test_split(\n",
    "        reshaped_segments, labels, test_size=0.20, random_state=RANDOM_SEED)"
   ]
  },
  {
   "cell_type": "code",
   "execution_count": 17,
   "id": "a7afc838",
   "metadata": {},
   "outputs": [
    {
     "name": "stdout",
     "output_type": "stream",
     "text": [
      "X_train :  43451\n",
      "X_test :  10863\n"
     ]
    }
   ],
   "source": [
    "print('X_train : ', len(X_train))\n",
    "print('X_test : ', len(X_test))"
   ]
  },
  {
   "cell_type": "code",
   "execution_count": 18,
   "id": "228da9f6",
   "metadata": {},
   "outputs": [
    {
     "name": "stdout",
     "output_type": "stream",
     "text": [
      "n_timesteps :  200\n",
      "n_features :  3\n",
      "n_outputs :  6\n"
     ]
    }
   ],
   "source": [
    "verbose = 1\n",
    "epochs = 10\n",
    "batch_size = 400\n",
    "\n",
    "n_timesteps = X_train.shape[1]\n",
    "n_features = X_train.shape[2]\n",
    "n_outputs = y_train.shape[1]\n",
    "\n",
    "print('n_timesteps : ', n_timesteps)\n",
    "print('n_features : ', n_features)\n",
    "print('n_outputs : ', n_outputs)"
   ]
  },
  {
   "cell_type": "code",
   "execution_count": 19,
   "id": "81c361dc",
   "metadata": {},
   "outputs": [
    {
     "name": "stdout",
     "output_type": "stream",
     "text": [
      "WARNING:tensorflow:`period` argument is deprecated. Please use `save_freq` to specify the frequency in number of batches seen.\n"
     ]
    }
   ],
   "source": [
    "metric = 'val_accuracy'\n",
    "checkpoint = ModelCheckpoint(\"wisdm_cnn.h5\", monitor=metric, verbose=1, \n",
    "                             save_best_only=True, save_weights_only=False, mode='auto', period=1)"
   ]
  },
  {
   "cell_type": "code",
   "execution_count": 20,
   "id": "5c68eeef",
   "metadata": {},
   "outputs": [
    {
     "name": "stderr",
     "output_type": "stream",
     "text": [
      "2023-04-23 13:08:20.735371: I tensorflow/core/platform/cpu_feature_guard.cc:142] This TensorFlow binary is optimized with oneAPI Deep Neural Network Library (oneDNN) to use the following CPU instructions in performance-critical operations:  SSE4.1 SSE4.2\n",
      "To enable them in other operations, rebuild TensorFlow with the appropriate compiler flags.\n"
     ]
    }
   ],
   "source": [
    "model = Sequential()\n",
    "model.add(Conv1D(filters=64, kernel_size=3, activation='relu', input_shape=(n_timesteps,n_features)))\n",
    "model.add(Conv1D(filters=64, kernel_size=3, activation='relu', padding = 'same'))\n",
    "model.add(Dropout(0.4))\n",
    "model.add(MaxPooling1D(pool_size=3))\n",
    "model.add(Flatten())\n",
    "model.add(Dense(100, activation='relu'))\n",
    "model.add(Dense(n_outputs, activation='softmax'))"
   ]
  },
  {
   "cell_type": "code",
   "execution_count": 21,
   "id": "27a3d27f",
   "metadata": {},
   "outputs": [
    {
     "name": "stdout",
     "output_type": "stream",
     "text": [
      "Epoch 1/10\n"
     ]
    },
    {
     "name": "stderr",
     "output_type": "stream",
     "text": [
      "2023-04-23 13:08:20.842232: I tensorflow/compiler/mlir/mlir_graph_optimization_pass.cc:116] None of the MLIR optimization passes are enabled (registered 2)\n"
     ]
    },
    {
     "name": "stdout",
     "output_type": "stream",
     "text": [
      "109/109 [==============================] - 10s 92ms/step - loss: 1.9671 - accuracy: 0.5875 - val_loss: 0.4300 - val_accuracy: 0.8540\n",
      "\n",
      "Epoch 00001: val_accuracy improved from -inf to 0.85400, saving model to wisdm_cnn.h5\n",
      "Epoch 2/10\n",
      "109/109 [==============================] - 9s 87ms/step - loss: 0.3736 - accuracy: 0.8665 - val_loss: 0.2431 - val_accuracy: 0.9184\n",
      "\n",
      "Epoch 00002: val_accuracy improved from 0.85400 to 0.91844, saving model to wisdm_cnn.h5\n",
      "Epoch 3/10\n",
      "109/109 [==============================] - 10s 88ms/step - loss: 0.2256 - accuracy: 0.9213 - val_loss: 0.1950 - val_accuracy: 0.9429\n",
      "\n",
      "Epoch 00003: val_accuracy improved from 0.91844 to 0.94293, saving model to wisdm_cnn.h5\n",
      "Epoch 4/10\n",
      "109/109 [==============================] - 10s 87ms/step - loss: 0.1738 - accuracy: 0.9431 - val_loss: 0.1519 - val_accuracy: 0.9534\n",
      "\n",
      "Epoch 00004: val_accuracy improved from 0.94293 to 0.95342, saving model to wisdm_cnn.h5\n",
      "Epoch 5/10\n",
      "109/109 [==============================] - 9s 85ms/step - loss: 0.1381 - accuracy: 0.9550 - val_loss: 0.1432 - val_accuracy: 0.9559\n",
      "\n",
      "Epoch 00005: val_accuracy improved from 0.95342 to 0.95591, saving model to wisdm_cnn.h5\n",
      "Epoch 6/10\n",
      "109/109 [==============================] - 9s 87ms/step - loss: 0.1176 - accuracy: 0.9619 - val_loss: 0.1219 - val_accuracy: 0.9655\n",
      "\n",
      "Epoch 00006: val_accuracy improved from 0.95591 to 0.96548, saving model to wisdm_cnn.h5\n",
      "Epoch 7/10\n",
      "109/109 [==============================] - 9s 86ms/step - loss: 0.1020 - accuracy: 0.9652 - val_loss: 0.1338 - val_accuracy: 0.9567\n",
      "\n",
      "Epoch 00007: val_accuracy did not improve from 0.96548\n",
      "Epoch 8/10\n",
      "109/109 [==============================] - 9s 86ms/step - loss: 0.0868 - accuracy: 0.9706 - val_loss: 0.1046 - val_accuracy: 0.9651\n",
      "\n",
      "Epoch 00008: val_accuracy did not improve from 0.96548\n",
      "Epoch 9/10\n",
      "109/109 [==============================] - 10s 88ms/step - loss: 0.0842 - accuracy: 0.9700 - val_loss: 0.0927 - val_accuracy: 0.9715\n",
      "\n",
      "Epoch 00009: val_accuracy improved from 0.96548 to 0.97146, saving model to wisdm_cnn.h5\n",
      "Epoch 10/10\n",
      "109/109 [==============================] - 9s 85ms/step - loss: 0.0677 - accuracy: 0.9768 - val_loss: 0.0870 - val_accuracy: 0.9745\n",
      "\n",
      "Epoch 00010: val_accuracy improved from 0.97146 to 0.97450, saving model to wisdm_cnn.h5\n",
      "28/28 [==============================] - 1s 22ms/step - loss: 0.0870 - accuracy: 0.9745\n",
      "[INFO] loss=0.0870, accuracy: 97.4501%\n"
     ]
    }
   ],
   "source": [
    "# Load Weights\n",
    "final_model = Model(inputs = model.input, outputs = model.output)\n",
    "#final_model.load_weights('./har_weights.h5')\n",
    "final_model.compile(loss='categorical_crossentropy', optimizer='adam', metrics=['accuracy'])\n",
    "\n",
    "# fit network\n",
    "history = final_model.fit(X_train, y_train, validation_data=(X_test, y_test), \n",
    "                    epochs=epochs, batch_size=batch_size, callbacks = [checkpoint], verbose=verbose)\n",
    "\n",
    "# evaluate model\n",
    "(loss, accuracy) = final_model.evaluate(X_test, y_test, batch_size=batch_size, verbose=verbose)\n",
    "print(\"[INFO] loss={:.4f}, accuracy: {:.4f}%\".format(loss, accuracy * 100))"
   ]
  },
  {
   "cell_type": "code",
   "execution_count": 22,
   "id": "d13d40bc",
   "metadata": {},
   "outputs": [
    {
     "data": {
      "image/png": "[encoded data removed]",
      "text/plain": [
       "<Figure size 576x432 with 2 Axes>"
      ]
     },
     "metadata": {
      "needs_background": "light"
     },
     "output_type": "display_data"
    }
   ],
   "source": [
    "# Print confusion matrix for training data\n",
    "y_pred_train = final_model.predict(X_train)\n",
    "# Take the class with the highest probability from the train predictions\n",
    "max_y_pred_train = np.argmax(y_pred_train, axis=1)\n",
    "#print(classification_report(trainy, max_y_pred_train))\n",
    "\n",
    "# confusion matrix\n",
    "classes = ['Downstairs', 'Upstairs', 'Walking', 'Standing', 'Sitting', 'Jogging']\n",
    "y_pred_test = final_model.predict(X_test)\n",
    "# Take the class with the highest probability from the test predictions\n",
    "max_y_pred_test = np.argmax(y_pred_test, axis=1)\n",
    "max_y_test = np.argmax(y_test, axis=1)\n",
    "\n",
    "matrix = metrics.confusion_matrix(max_y_test, max_y_pred_test)\n",
    "plt.figure(figsize=(8, 6))\n",
    "sns.heatmap(matrix, cmap='PuBu', linecolor='white', linewidths=1,\n",
    "            xticklabels=classes, yticklabels=classes, annot=True, fmt='2d')\n",
    "plt.title('Confusion Matrix: Convolutional Neural Network')\n",
    "plt.ylabel('True Label')\n",
    "plt.xlabel('Predicted Label')\n",
    "plt.show()"
   ]
  },
  {
   "cell_type": "code",
   "execution_count": 23,
   "id": "56835a58",
   "metadata": {},
   "outputs": [
    {
     "name": "stdout",
     "output_type": "stream",
     "text": [
      "Accuracy: 0.9745005983614103\n",
      "Precision: 0.9750467019475141\n",
      "Recall: 0.9745005983614103\n",
      "F1-score: 0.9745454297107818\n"
     ]
    }
   ],
   "source": [
    "print(\"Accuracy:\",metrics.accuracy_score(max_y_test, max_y_pred_test))\n",
    "print(\"Precision:\",metrics.precision_score(max_y_test, max_y_pred_test, average = 'weighted', zero_division=1))\n",
    "print(\"Recall:\",metrics.recall_score(max_y_test, max_y_pred_test, average = 'weighted', zero_division=1))\n",
    "print(\"F1-score:\",metrics.f1_score(max_y_test, max_y_pred_test, average = 'weighted', zero_division=1))"
   ]
  }
 ],
 "metadata": {
  "kernelspec": {
   "display_name": "Python 3 (ipykernel)",
   "language": "python",
   "name": "python3"
  },
  "language_info": {
   "codemirror_mode": {
    "name": "ipython",
    "version": 3
   },
   "file_extension": ".py",
   "mimetype": "text/x-python",
   "name": "python",
   "nbconvert_exporter": "python",
   "pygments_lexer": "ipython3",
   "version": "3.9.12"
  }
 },
 "nbformat": 4,
 "nbformat_minor": 5
}
